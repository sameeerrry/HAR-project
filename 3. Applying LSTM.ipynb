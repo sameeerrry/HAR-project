{
 "cells": [
  {
   "cell_type": "markdown",
   "metadata": {},
   "source": [
    "<html><h1><center style=\"color:blue\">Applying LSTM Models on Raw Data</center></h1></html>"
   ]
  },
  {
   "cell_type": "code",
   "execution_count": 2,
   "metadata": {},
   "outputs": [],
   "source": [
    "# Importing Libraries\n",
    "\n",
    "\n",
    "import pandas as pd\n",
    "import numpy as np\n",
    "\n",
    "# Import Keras\n",
    "from keras import backend as K\n",
    "from tensorflow.keras.models import Sequential\n",
    "from tensorflow.keras.layers import LSTM, Dense, Dropout\n",
    "from keras.layers import BatchNormalization\n",
    "from keras.regularizers import L1L2\n"
   ]
  },
  {
   "cell_type": "code",
   "execution_count": 3,
   "metadata": {},
   "outputs": [],
   "source": [
    "import tensorflow as tf\n",
    "\n",
    "gpus = tf.config.experimental.list_physical_devices('GPU')\n",
    "if gpus:\n",
    "    try:\n",
    "        for gpu in gpus:\n",
    "            tf.config.experimental.set_memory_growth(gpu, True)\n",
    "    except RuntimeError as e:\n",
    "        print(e)\n"
   ]
  },
  {
   "cell_type": "code",
   "execution_count": 4,
   "metadata": {},
   "outputs": [],
   "source": [
    "# Activities are the class labels\n",
    "# It is a 6 class classification\n",
    "ACTIVITIES = {\n",
    "    0: 'WALKING',\n",
    "    1: 'WALKING_UPSTAIRS',\n",
    "    2: 'WALKING_DOWNSTAIRS',\n",
    "    3: 'SITTING',\n",
    "    4: 'STANDING',\n",
    "    5: 'LAYING',\n",
    "}"
   ]
  },
  {
   "cell_type": "code",
   "execution_count": 5,
   "metadata": {},
   "outputs": [],
   "source": [
    "import matplotlib.pyplot as plt\n",
    "import seaborn as sns\n",
    "\n",
    "# function to print the confusion matrix\n",
    "\n",
    "def confusion_matrix(Y_true, Y_pred):\n",
    "    \n",
    "    Y_true = pd.Series([ACTIVITIES[y] for y in np.argmax(Y_true, axis=1)])\n",
    "    Y_pred = pd.Series([ACTIVITIES[y] for y in np.argmax(Y_pred, axis=1)])\n",
    "\n",
    "    return pd.crosstab(Y_true, Y_pred, rownames=['True'], colnames=['Pred'])\n",
    "\n",
    "    \n",
    "   # result = confusion_matrix(Y_true, Y_pred)\n",
    "\n",
    "    #plt.figure(figsize=(10, 8))\n",
    "   # sns.heatmap(result, \n",
    "    #            xticklabels= list(ACTIVITIES.values()), \n",
    "     #           yticklabels=list(ACTIVITIES.values()), \n",
    "      #          annot=True, fmt=\"d\");\n",
    "   # plt.title(\"Confusion matrix\")\n",
    "   # plt.ylabel('True label')\n",
    "   # plt.xlabel('Predicted label')\n",
    "    plt.show()  "
   ]
  },
  {
   "cell_type": "markdown",
   "metadata": {},
   "source": [
    "<html><h1><p style=\"color:red\">Loading Data / Making Data </p></h1></html>"
   ]
  },
  {
   "cell_type": "code",
   "execution_count": null,
   "metadata": {},
   "outputs": [],
   "source": []
  },
  {
   "cell_type": "code",
   "execution_count": 6,
   "metadata": {},
   "outputs": [],
   "source": [
    "# Data directory\n",
    "DATADIR = 'UCI_HAR_Dataset'\n",
    "\n",
    "# Raw data signals\n",
    "# Signals are from Accelerometer and Gyroscope\n",
    "# The signals are in x,y,z directions\n",
    "# Sensor signals are filtered to have only body acceleration\n",
    "# excluding the acceleration due to gravity\n",
    "# Triaxial acceleration from the accelerometer is total acceleration\n",
    "SIGNALS = [\n",
    "    \"body_acc_x\",\n",
    "    \"body_acc_y\",\n",
    "    \"body_acc_z\",\n",
    "    \"body_gyro_x\",\n",
    "    \"body_gyro_y\",\n",
    "    \"body_gyro_z\",\n",
    "    \"total_acc_x\",\n",
    "    \"total_acc_y\",\n",
    "    \"total_acc_z\"\n",
    "    ]"
   ]
  },
  {
   "cell_type": "code",
   "execution_count": 7,
   "metadata": {},
   "outputs": [],
   "source": [
    "# function to read the data from csv file\n",
    "def _read_csv(filename):\n",
    "    return pd.read_csv(filename, delim_whitespace=True, header=None)\n",
    "\n",
    "# function to load the load\n",
    "def load_signals(subset):\n",
    "    signals_data = []\n",
    "\n",
    "    for signal in SIGNALS:\n",
    "        filename = f'UCI_HAR_Dataset/{subset}/Inertial Signals/{signal}_{subset}.txt'\n",
    "        signals_data.append(\n",
    "            _read_csv(filename).to_numpy()\n",
    "        ) \n",
    "\n",
    "    # Transpose is used to change the dimensionality of the output,\n",
    "    # aggregating the signals by combination of sample/timestep.\n",
    "    # Resultant shape is (7352 train/2947 test samples, 128 timesteps, 9 signals)\n",
    "    return np.transpose(signals_data, (1, 2, 0))"
   ]
  },
  {
   "cell_type": "code",
   "execution_count": 8,
   "metadata": {},
   "outputs": [],
   "source": [
    "def load_y(subset):\n",
    "    \"\"\"\n",
    "    The objective that we are trying to predict is a integer, from 1 to 6,\n",
    "    that represents a human activity. We return a binary representation of \n",
    "    every sample objective as a 6 bits vector using One Hot Encoding\n",
    "    (https://pandas.pydata.org/pandas-docs/stable/generated/pandas.get_dummies.html)\n",
    "    \"\"\"\n",
    "    filename = f'UCI_HAR_Dataset/{subset}/y_{subset}.txt'\n",
    "    y = _read_csv(filename)[0]\n",
    "\n",
    "    return pd.get_dummies(y).to_numpy()"
   ]
  },
  {
   "cell_type": "code",
   "execution_count": 9,
   "metadata": {},
   "outputs": [],
   "source": [
    "def load_data():\n",
    "    \"\"\"\n",
    "    Obtain the dataset from multiple files.\n",
    "    Returns: X_train, X_test, y_train, y_test\n",
    "    \"\"\"\n",
    "    X_train, X_test = load_signals('train'), load_signals('test')\n",
    "    y_train, y_test = load_y('train'), load_y('test')\n",
    "\n",
    "    return X_train, X_test, y_train, y_test"
   ]
  },
  {
   "cell_type": "code",
   "execution_count": 10,
   "metadata": {},
   "outputs": [],
   "source": [
    "# Importing tensorflow\n",
    "np.random.seed(42)\n",
    "import tensorflow as tf\n",
    "tf.random.set_seed(42)"
   ]
  },
  {
   "cell_type": "code",
   "execution_count": 11,
   "metadata": {},
   "outputs": [],
   "source": [
    "\n",
    "\n",
    "# Initializing parameters\n",
    "epochs = 30\n",
    "batch_size = 16\n",
    "n_hidden = 32"
   ]
  },
  {
   "cell_type": "code",
   "execution_count": 12,
   "metadata": {},
   "outputs": [],
   "source": [
    "#function to count the number of classes\n",
    "def _count_classes(y):\n",
    "    return len(set([tuple(category) for category in y]))"
   ]
  },
  {
   "cell_type": "code",
   "execution_count": 13,
   "metadata": {},
   "outputs": [
    {
     "name": "stderr",
     "output_type": "stream",
     "text": [
      "C:\\Users\\abc\\AppData\\Local\\Temp\\ipykernel_17888\\618491832.py:3: FutureWarning: The 'delim_whitespace' keyword in pd.read_csv is deprecated and will be removed in a future version. Use ``sep='\\s+'`` instead\n",
      "  return pd.read_csv(filename, delim_whitespace=True, header=None)\n",
      "C:\\Users\\abc\\AppData\\Local\\Temp\\ipykernel_17888\\618491832.py:3: FutureWarning: The 'delim_whitespace' keyword in pd.read_csv is deprecated and will be removed in a future version. Use ``sep='\\s+'`` instead\n",
      "  return pd.read_csv(filename, delim_whitespace=True, header=None)\n",
      "C:\\Users\\abc\\AppData\\Local\\Temp\\ipykernel_17888\\618491832.py:3: FutureWarning: The 'delim_whitespace' keyword in pd.read_csv is deprecated and will be removed in a future version. Use ``sep='\\s+'`` instead\n",
      "  return pd.read_csv(filename, delim_whitespace=True, header=None)\n",
      "C:\\Users\\abc\\AppData\\Local\\Temp\\ipykernel_17888\\618491832.py:3: FutureWarning: The 'delim_whitespace' keyword in pd.read_csv is deprecated and will be removed in a future version. Use ``sep='\\s+'`` instead\n",
      "  return pd.read_csv(filename, delim_whitespace=True, header=None)\n",
      "C:\\Users\\abc\\AppData\\Local\\Temp\\ipykernel_17888\\618491832.py:3: FutureWarning: The 'delim_whitespace' keyword in pd.read_csv is deprecated and will be removed in a future version. Use ``sep='\\s+'`` instead\n",
      "  return pd.read_csv(filename, delim_whitespace=True, header=None)\n",
      "C:\\Users\\abc\\AppData\\Local\\Temp\\ipykernel_17888\\618491832.py:3: FutureWarning: The 'delim_whitespace' keyword in pd.read_csv is deprecated and will be removed in a future version. Use ``sep='\\s+'`` instead\n",
      "  return pd.read_csv(filename, delim_whitespace=True, header=None)\n",
      "C:\\Users\\abc\\AppData\\Local\\Temp\\ipykernel_17888\\618491832.py:3: FutureWarning: The 'delim_whitespace' keyword in pd.read_csv is deprecated and will be removed in a future version. Use ``sep='\\s+'`` instead\n",
      "  return pd.read_csv(filename, delim_whitespace=True, header=None)\n",
      "C:\\Users\\abc\\AppData\\Local\\Temp\\ipykernel_17888\\618491832.py:3: FutureWarning: The 'delim_whitespace' keyword in pd.read_csv is deprecated and will be removed in a future version. Use ``sep='\\s+'`` instead\n",
      "  return pd.read_csv(filename, delim_whitespace=True, header=None)\n",
      "C:\\Users\\abc\\AppData\\Local\\Temp\\ipykernel_17888\\618491832.py:3: FutureWarning: The 'delim_whitespace' keyword in pd.read_csv is deprecated and will be removed in a future version. Use ``sep='\\s+'`` instead\n",
      "  return pd.read_csv(filename, delim_whitespace=True, header=None)\n",
      "C:\\Users\\abc\\AppData\\Local\\Temp\\ipykernel_17888\\618491832.py:3: FutureWarning: The 'delim_whitespace' keyword in pd.read_csv is deprecated and will be removed in a future version. Use ``sep='\\s+'`` instead\n",
      "  return pd.read_csv(filename, delim_whitespace=True, header=None)\n",
      "C:\\Users\\abc\\AppData\\Local\\Temp\\ipykernel_17888\\618491832.py:3: FutureWarning: The 'delim_whitespace' keyword in pd.read_csv is deprecated and will be removed in a future version. Use ``sep='\\s+'`` instead\n",
      "  return pd.read_csv(filename, delim_whitespace=True, header=None)\n",
      "C:\\Users\\abc\\AppData\\Local\\Temp\\ipykernel_17888\\618491832.py:3: FutureWarning: The 'delim_whitespace' keyword in pd.read_csv is deprecated and will be removed in a future version. Use ``sep='\\s+'`` instead\n",
      "  return pd.read_csv(filename, delim_whitespace=True, header=None)\n",
      "C:\\Users\\abc\\AppData\\Local\\Temp\\ipykernel_17888\\618491832.py:3: FutureWarning: The 'delim_whitespace' keyword in pd.read_csv is deprecated and will be removed in a future version. Use ``sep='\\s+'`` instead\n",
      "  return pd.read_csv(filename, delim_whitespace=True, header=None)\n",
      "C:\\Users\\abc\\AppData\\Local\\Temp\\ipykernel_17888\\618491832.py:3: FutureWarning: The 'delim_whitespace' keyword in pd.read_csv is deprecated and will be removed in a future version. Use ``sep='\\s+'`` instead\n",
      "  return pd.read_csv(filename, delim_whitespace=True, header=None)\n",
      "C:\\Users\\abc\\AppData\\Local\\Temp\\ipykernel_17888\\618491832.py:3: FutureWarning: The 'delim_whitespace' keyword in pd.read_csv is deprecated and will be removed in a future version. Use ``sep='\\s+'`` instead\n",
      "  return pd.read_csv(filename, delim_whitespace=True, header=None)\n",
      "C:\\Users\\abc\\AppData\\Local\\Temp\\ipykernel_17888\\618491832.py:3: FutureWarning: The 'delim_whitespace' keyword in pd.read_csv is deprecated and will be removed in a future version. Use ``sep='\\s+'`` instead\n",
      "  return pd.read_csv(filename, delim_whitespace=True, header=None)\n",
      "C:\\Users\\abc\\AppData\\Local\\Temp\\ipykernel_17888\\618491832.py:3: FutureWarning: The 'delim_whitespace' keyword in pd.read_csv is deprecated and will be removed in a future version. Use ``sep='\\s+'`` instead\n",
      "  return pd.read_csv(filename, delim_whitespace=True, header=None)\n",
      "C:\\Users\\abc\\AppData\\Local\\Temp\\ipykernel_17888\\618491832.py:3: FutureWarning: The 'delim_whitespace' keyword in pd.read_csv is deprecated and will be removed in a future version. Use ``sep='\\s+'`` instead\n",
      "  return pd.read_csv(filename, delim_whitespace=True, header=None)\n",
      "C:\\Users\\abc\\AppData\\Local\\Temp\\ipykernel_17888\\618491832.py:3: FutureWarning: The 'delim_whitespace' keyword in pd.read_csv is deprecated and will be removed in a future version. Use ``sep='\\s+'`` instead\n",
      "  return pd.read_csv(filename, delim_whitespace=True, header=None)\n",
      "C:\\Users\\abc\\AppData\\Local\\Temp\\ipykernel_17888\\618491832.py:3: FutureWarning: The 'delim_whitespace' keyword in pd.read_csv is deprecated and will be removed in a future version. Use ``sep='\\s+'`` instead\n",
      "  return pd.read_csv(filename, delim_whitespace=True, header=None)\n"
     ]
    }
   ],
   "source": [
    "# Loading the train and test data\n",
    "X_train, X_test, Y_train, Y_test = load_data()"
   ]
  },
  {
   "cell_type": "code",
   "execution_count": 14,
   "metadata": {},
   "outputs": [
    {
     "name": "stdout",
     "output_type": "stream",
     "text": [
      "128\n",
      "9\n",
      "7352\n"
     ]
    }
   ],
   "source": [
    "timesteps = len(X_train[0])\n",
    "input_dim = len(X_train[0][0])\n",
    "n_classes = _count_classes(Y_train)\n",
    "\n",
    "print(timesteps)\n",
    "print(input_dim)\n",
    "print(len(X_train))"
   ]
  },
  {
   "cell_type": "code",
   "execution_count": null,
   "metadata": {},
   "outputs": [],
   "source": []
  },
  {
   "cell_type": "markdown",
   "metadata": {},
   "source": [
    "<html><h1><p style=\"color:red\">1. Defining the Architecture of 1-Layer of LSTM </p></h1></html>"
   ]
  },
  {
   "cell_type": "code",
   "execution_count": 15,
   "metadata": {},
   "outputs": [
    {
     "name": "stdout",
     "output_type": "stream",
     "text": [
      "Model: \"sequential\"\n",
      "_________________________________________________________________\n",
      " Layer (type)                Output Shape              Param #   \n",
      "=================================================================\n",
      " lstm (LSTM)                 (None, 32)                5376      \n",
      "                                                                 \n",
      " dropout (Dropout)           (None, 32)                0         \n",
      "                                                                 \n",
      " dense (Dense)               (None, 6)                 198       \n",
      "                                                                 \n",
      "=================================================================\n",
      "Total params: 5,574\n",
      "Trainable params: 5,574\n",
      "Non-trainable params: 0\n",
      "_________________________________________________________________\n"
     ]
    }
   ],
   "source": [
    "# Initiliazing the sequential model\n",
    "model = Sequential()\n",
    "# Configuring the parameters\n",
    "model.add(LSTM(n_hidden, input_shape=(timesteps, input_dim)))\n",
    "# Adding a dropout layer\n",
    "model.add(Dropout(0.5))\n",
    "# Adding a dense output layer with sigmoid activation\n",
    "model.add(Dense(n_classes, activation='sigmoid'))\n",
    "model.summary()"
   ]
  },
  {
   "cell_type": "code",
   "execution_count": 16,
   "metadata": {},
   "outputs": [],
   "source": [
    "# Compiling the model\n",
    "model.compile(loss='categorical_crossentropy', optimizer='rmsprop', metrics=['accuracy'])"
   ]
  },
  {
   "cell_type": "code",
   "execution_count": 17,
   "metadata": {},
   "outputs": [
    {
     "name": "stdout",
     "output_type": "stream",
     "text": [
      "Epoch 1/30\n",
      "460/460 [==============================] - 29s 49ms/step - loss: 1.2278 - accuracy: 0.4786 - val_loss: 1.0437 - val_accuracy: 0.5775\n",
      "Epoch 2/30\n",
      "460/460 [==============================] - 22s 47ms/step - loss: 0.7929 - accuracy: 0.6676 - val_loss: 0.6966 - val_accuracy: 0.7431\n",
      "Epoch 3/30\n",
      "460/460 [==============================] - 24s 51ms/step - loss: 0.5650 - accuracy: 0.8037 - val_loss: 0.6741 - val_accuracy: 0.7204\n",
      "Epoch 4/30\n",
      "460/460 [==============================] - 19s 42ms/step - loss: 0.4273 - accuracy: 0.8659 - val_loss: 0.5186 - val_accuracy: 0.8351\n",
      "Epoch 5/30\n",
      "460/460 [==============================] - 16s 34ms/step - loss: 0.3442 - accuracy: 0.8976 - val_loss: 0.4605 - val_accuracy: 0.8493\n",
      "Epoch 6/30\n",
      "460/460 [==============================] - 13s 28ms/step - loss: 0.3418 - accuracy: 0.9015 - val_loss: 0.5082 - val_accuracy: 0.8470\n",
      "Epoch 7/30\n",
      "460/460 [==============================] - 12s 26ms/step - loss: 0.2699 - accuracy: 0.9172 - val_loss: 0.3723 - val_accuracy: 0.8772\n",
      "Epoch 8/30\n",
      "460/460 [==============================] - 12s 26ms/step - loss: 0.2491 - accuracy: 0.9208 - val_loss: 0.2912 - val_accuracy: 0.8982\n",
      "Epoch 9/30\n",
      "460/460 [==============================] - 10s 21ms/step - loss: 0.2206 - accuracy: 0.9323 - val_loss: 0.2924 - val_accuracy: 0.8965\n",
      "Epoch 10/30\n",
      "460/460 [==============================] - 8s 18ms/step - loss: 0.2098 - accuracy: 0.9309 - val_loss: 0.3001 - val_accuracy: 0.8975\n",
      "Epoch 11/30\n",
      "460/460 [==============================] - 9s 19ms/step - loss: 0.1908 - accuracy: 0.9353 - val_loss: 0.3024 - val_accuracy: 0.9023\n",
      "Epoch 12/30\n",
      "460/460 [==============================] - 9s 20ms/step - loss: 0.1971 - accuracy: 0.9366 - val_loss: 0.3722 - val_accuracy: 0.9040\n",
      "Epoch 13/30\n",
      "460/460 [==============================] - 13s 29ms/step - loss: 0.1762 - accuracy: 0.9407 - val_loss: 0.4093 - val_accuracy: 0.8867\n",
      "Epoch 14/30\n",
      "460/460 [==============================] - 17s 38ms/step - loss: 0.1789 - accuracy: 0.9411 - val_loss: 0.3330 - val_accuracy: 0.9009\n",
      "Epoch 15/30\n",
      "460/460 [==============================] - 12s 27ms/step - loss: 0.1648 - accuracy: 0.9436 - val_loss: 0.3782 - val_accuracy: 0.9063\n",
      "Epoch 16/30\n",
      "460/460 [==============================] - 15s 32ms/step - loss: 0.1651 - accuracy: 0.9422 - val_loss: 0.2983 - val_accuracy: 0.9050\n",
      "Epoch 17/30\n",
      "460/460 [==============================] - 13s 28ms/step - loss: 0.1563 - accuracy: 0.9444 - val_loss: 0.3458 - val_accuracy: 0.9030\n",
      "Epoch 18/30\n",
      "460/460 [==============================] - 13s 28ms/step - loss: 0.1609 - accuracy: 0.9426 - val_loss: 0.5355 - val_accuracy: 0.8853\n",
      "Epoch 19/30\n",
      "460/460 [==============================] - 13s 28ms/step - loss: 0.1584 - accuracy: 0.9434 - val_loss: 0.4024 - val_accuracy: 0.8901\n",
      "Epoch 20/30\n",
      "460/460 [==============================] - 13s 28ms/step - loss: 0.1440 - accuracy: 0.9468 - val_loss: 0.3341 - val_accuracy: 0.9050\n",
      "Epoch 21/30\n",
      "460/460 [==============================] - 13s 27ms/step - loss: 0.1658 - accuracy: 0.9433 - val_loss: 0.3035 - val_accuracy: 0.9026\n",
      "Epoch 22/30\n",
      "460/460 [==============================] - 12s 26ms/step - loss: 0.1432 - accuracy: 0.9445 - val_loss: 0.2690 - val_accuracy: 0.9135\n",
      "Epoch 23/30\n",
      "460/460 [==============================] - 12s 26ms/step - loss: 0.1716 - accuracy: 0.9446 - val_loss: 0.3836 - val_accuracy: 0.8962\n",
      "Epoch 24/30\n",
      "460/460 [==============================] - 13s 29ms/step - loss: 0.1615 - accuracy: 0.9445 - val_loss: 0.3050 - val_accuracy: 0.9026\n",
      "Epoch 25/30\n",
      "460/460 [==============================] - 14s 29ms/step - loss: 0.1461 - accuracy: 0.9476 - val_loss: 0.3564 - val_accuracy: 0.9046\n",
      "Epoch 26/30\n",
      "460/460 [==============================] - 14s 30ms/step - loss: 0.1467 - accuracy: 0.9465 - val_loss: 0.3945 - val_accuracy: 0.8989\n",
      "Epoch 27/30\n",
      "460/460 [==============================] - 10s 22ms/step - loss: 0.1422 - accuracy: 0.9480 - val_loss: 0.4803 - val_accuracy: 0.9013\n",
      "Epoch 28/30\n",
      "460/460 [==============================] - 7s 16ms/step - loss: 0.1421 - accuracy: 0.9513 - val_loss: 0.3773 - val_accuracy: 0.9114\n",
      "Epoch 29/30\n",
      "460/460 [==============================] - 7s 16ms/step - loss: 0.1528 - accuracy: 0.9480 - val_loss: 0.4299 - val_accuracy: 0.9053\n",
      "Epoch 30/30\n",
      "460/460 [==============================] - 8s 16ms/step - loss: 0.1527 - accuracy: 0.9495 - val_loss: 0.4972 - val_accuracy: 0.8999\n"
     ]
    },
    {
     "data": {
      "text/plain": [
       "<keras.callbacks.History at 0x1dba45a5870>"
      ]
     },
     "execution_count": 17,
     "metadata": {},
     "output_type": "execute_result"
    }
   ],
   "source": [
    "# Training the model\n",
    "model.fit(X_train, Y_train, batch_size=batch_size, validation_data=(X_test, Y_test),epochs=epochs)"
   ]
  },
  {
   "cell_type": "code",
   "execution_count": 18,
   "metadata": {},
   "outputs": [],
   "source": [
    "model.save('models/lstml1_model.h5')"
   ]
  },
  {
   "cell_type": "code",
   "execution_count": 19,
   "metadata": {},
   "outputs": [
    {
     "name": "stdout",
     "output_type": "stream",
     "text": [
      "93/93 [==============================] - 1s 7ms/step\n"
     ]
    },
    {
     "data": {
      "image/png": "[encoded data removed]",
      "text/plain": [
       "<Figure size 640x480 with 2 Axes>"
      ]
     },
     "metadata": {},
     "output_type": "display_data"
    }
   ],
   "source": [
    "from sklearn.metrics import confusion_matrix, ConfusionMatrixDisplay\n",
    "import numpy as np\n",
    "import matplotlib.pyplot as plt\n",
    "\n",
    "# Get predictions and convert one-hot to class indices\n",
    "y_pred = model.predict(X_test)\n",
    "y_pred_classes = np.argmax(y_pred, axis=1)\n",
    "y_true = np.argmax(Y_test, axis=1)\n",
    "\n",
    "# Compute confusion matrix\n",
    "cm = confusion_matrix(y_true, y_pred_classes)\n",
    "\n",
    "# Display the matrix\n",
    "disp = ConfusionMatrixDisplay(confusion_matrix=cm)\n",
    "disp.plot(cmap=plt.cm.Blues)\n",
    "plt.title(\"Confusion Matrix\")\n",
    "plt.show()\n"
   ]
  },
  {
   "cell_type": "code",
   "execution_count": 20,
   "metadata": {},
   "outputs": [
    {
     "name": "stdout",
     "output_type": "stream",
     "text": [
      "93/93 [==============================] - 1s 6ms/step - loss: 0.4972 - accuracy: 0.8999\n",
      "\n",
      "   cat_crossentropy  ||   accuracy \n",
      "  ____________________________________\n",
      "[0.49723538756370544, 0.8998982310295105]\n"
     ]
    }
   ],
   "source": [
    "score = model.evaluate(X_test, Y_test)\n",
    "\n",
    "print(\"\\n   cat_crossentropy  ||   accuracy \")\n",
    "print(\"  ____________________________________\")\n",
    "print(score)"
   ]
  },
  {
   "cell_type": "markdown",
   "metadata": {},
   "source": [
    "<html><h3><p style=\"color:#008080\">With a simple 1 layer architecture we got 89.98% accuracy and a loss of 0.49</p></h4></html>"
   ]
  },
  {
   "cell_type": "markdown",
   "metadata": {},
   "source": []
  },
  {
   "cell_type": "markdown",
   "metadata": {},
   "source": [
    "<html><h1><p style=\"color:red\">2. Defining the Architecture of 2-Layer of LSTM with more hyperparameter tunning </p></h1></html>"
   ]
  },
  {
   "cell_type": "markdown",
   "metadata": {},
   "source": [
    "### 2.1 First Model for 2-Layer of LSTM with more hyperparameter tunning"
   ]
  },
  {
   "cell_type": "code",
   "execution_count": 21,
   "metadata": {},
   "outputs": [],
   "source": [
    "# Initializing parameters\n",
    "n_epochs = 30\n",
    "n_batch = 16\n",
    "n_classes = _count_classes(Y_train)\n",
    "\n",
    "# Bias regularizer value - we will use elasticnet\n",
    "reg = L1L2(0.01, 0.01)"
   ]
  },
  {
   "cell_type": "code",
   "execution_count": 22,
   "metadata": {},
   "outputs": [
    {
     "name": "stdout",
     "output_type": "stream",
     "text": [
      "Model Summary: \n",
      "Model: \"sequential_1\"\n",
      "_________________________________________________________________\n",
      " Layer (type)                Output Shape              Param #   \n",
      "=================================================================\n",
      " lstm_1 (LSTM)               (None, 128, 48)           11136     \n",
      "                                                                 \n",
      " batch_normalization (BatchN  (None, 128, 48)          192       \n",
      " ormalization)                                                   \n",
      "                                                                 \n",
      " dropout_1 (Dropout)         (None, 128, 48)           0         \n",
      "                                                                 \n",
      " lstm_2 (LSTM)               (None, 32)                10368     \n",
      "                                                                 \n",
      " dropout_2 (Dropout)         (None, 32)                0         \n",
      "                                                                 \n",
      " dense_1 (Dense)             (None, 6)                 198       \n",
      "                                                                 \n",
      "=================================================================\n",
      "Total params: 21,894\n",
      "Trainable params: 21,798\n",
      "Non-trainable params: 96\n",
      "_________________________________________________________________\n"
     ]
    }
   ],
   "source": [
    "# Model execution\n",
    "model = Sequential()\n",
    "model.add(LSTM(48, input_shape=(timesteps, input_dim), return_sequences=True,bias_regularizer=reg ))\n",
    "model.add(BatchNormalization())\n",
    "model.add(Dropout(0.50))\n",
    "model.add(LSTM(32))\n",
    "model.add(Dropout(0.50))\n",
    "model.add(Dense(n_classes, activation='sigmoid'))\n",
    "print(\"Model Summary: \")\n",
    "model.summary()"
   ]
  },
  {
   "cell_type": "code",
   "execution_count": 23,
   "metadata": {},
   "outputs": [],
   "source": [
    "model.compile(loss='categorical_crossentropy', optimizer='adam', metrics=['accuracy'])"
   ]
  },
  {
   "cell_type": "code",
   "execution_count": 24,
   "metadata": {},
   "outputs": [
    {
     "name": "stdout",
     "output_type": "stream",
     "text": [
      "Epoch 1/30\n",
      "460/460 [==============================] - 16s 30ms/step - loss: 1.5424 - accuracy: 0.6699 - val_loss: 1.0757 - val_accuracy: 0.7547\n",
      "Epoch 2/30\n",
      "460/460 [==============================] - 12s 25ms/step - loss: 0.8504 - accuracy: 0.8368 - val_loss: 0.6038 - val_accuracy: 0.8911\n",
      "Epoch 3/30\n",
      "460/460 [==============================] - 13s 28ms/step - loss: 0.5384 - accuracy: 0.8961 - val_loss: 0.4651 - val_accuracy: 0.9043\n",
      "Epoch 4/30\n",
      "460/460 [==============================] - 13s 28ms/step - loss: 0.3841 - accuracy: 0.9195 - val_loss: 0.4697 - val_accuracy: 0.8785\n",
      "Epoch 5/30\n",
      "460/460 [==============================] - 13s 29ms/step - loss: 0.2967 - accuracy: 0.9246 - val_loss: 0.3170 - val_accuracy: 0.9053\n",
      "Epoch 6/30\n",
      "460/460 [==============================] - 13s 29ms/step - loss: 0.2451 - accuracy: 0.9308 - val_loss: 0.3202 - val_accuracy: 0.9118\n",
      "Epoch 7/30\n",
      "460/460 [==============================] - 14s 30ms/step - loss: 0.2057 - accuracy: 0.9359 - val_loss: 0.2692 - val_accuracy: 0.9186\n",
      "Epoch 8/30\n",
      "460/460 [==============================] - 14s 30ms/step - loss: 0.2107 - accuracy: 0.9287 - val_loss: 0.2720 - val_accuracy: 0.9111\n",
      "Epoch 9/30\n",
      "460/460 [==============================] - 14s 30ms/step - loss: 0.1930 - accuracy: 0.9323 - val_loss: 0.2760 - val_accuracy: 0.9091\n",
      "Epoch 10/30\n",
      "460/460 [==============================] - 14s 30ms/step - loss: 0.2835 - accuracy: 0.9123 - val_loss: 0.3079 - val_accuracy: 0.9030\n",
      "Epoch 11/30\n",
      "460/460 [==============================] - 12s 26ms/step - loss: 0.2014 - accuracy: 0.9306 - val_loss: 0.2467 - val_accuracy: 0.9128\n",
      "Epoch 12/30\n",
      "460/460 [==============================] - 12s 27ms/step - loss: 0.1692 - accuracy: 0.9403 - val_loss: 0.2315 - val_accuracy: 0.9240\n",
      "Epoch 13/30\n",
      "460/460 [==============================] - 12s 27ms/step - loss: 0.1749 - accuracy: 0.9329 - val_loss: 0.2475 - val_accuracy: 0.9114\n",
      "Epoch 14/30\n",
      "460/460 [==============================] - 11s 25ms/step - loss: 0.2302 - accuracy: 0.9218 - val_loss: 0.3031 - val_accuracy: 0.9125\n",
      "Epoch 15/30\n",
      "460/460 [==============================] - 12s 27ms/step - loss: 0.1566 - accuracy: 0.9397 - val_loss: 0.3484 - val_accuracy: 0.8965\n",
      "Epoch 16/30\n",
      "460/460 [==============================] - 12s 26ms/step - loss: 0.1554 - accuracy: 0.9422 - val_loss: 0.3204 - val_accuracy: 0.9169\n",
      "Epoch 17/30\n",
      "460/460 [==============================] - 11s 24ms/step - loss: 0.1526 - accuracy: 0.9388 - val_loss: 0.2940 - val_accuracy: 0.9108\n",
      "Epoch 18/30\n",
      "460/460 [==============================] - 12s 26ms/step - loss: 0.1498 - accuracy: 0.9410 - val_loss: 0.3099 - val_accuracy: 0.9175\n",
      "Epoch 19/30\n",
      "460/460 [==============================] - 12s 26ms/step - loss: 0.1468 - accuracy: 0.9427 - val_loss: 0.3554 - val_accuracy: 0.9040\n",
      "Epoch 20/30\n",
      "460/460 [==============================] - 11s 25ms/step - loss: 0.1456 - accuracy: 0.9426 - val_loss: 0.3262 - val_accuracy: 0.9091\n",
      "Epoch 21/30\n",
      "460/460 [==============================] - 12s 26ms/step - loss: 0.1488 - accuracy: 0.9425 - val_loss: 0.3147 - val_accuracy: 0.9162\n",
      "Epoch 22/30\n",
      "460/460 [==============================] - 12s 26ms/step - loss: 0.1783 - accuracy: 0.9377 - val_loss: 0.2189 - val_accuracy: 0.9155\n",
      "Epoch 23/30\n",
      "460/460 [==============================] - 12s 26ms/step - loss: 0.1512 - accuracy: 0.9437 - val_loss: 0.2862 - val_accuracy: 0.9162\n",
      "Epoch 24/30\n",
      "460/460 [==============================] - 12s 26ms/step - loss: 0.1448 - accuracy: 0.9442 - val_loss: 0.3009 - val_accuracy: 0.9121\n",
      "Epoch 25/30\n",
      "460/460 [==============================] - 13s 27ms/step - loss: 0.1399 - accuracy: 0.9471 - val_loss: 0.3632 - val_accuracy: 0.9087\n",
      "Epoch 26/30\n",
      "460/460 [==============================] - 13s 28ms/step - loss: 0.1815 - accuracy: 0.9368 - val_loss: 0.3428 - val_accuracy: 0.8979\n",
      "Epoch 27/30\n",
      "460/460 [==============================] - 13s 28ms/step - loss: 0.1630 - accuracy: 0.9392 - val_loss: 0.3802 - val_accuracy: 0.9108\n",
      "Epoch 28/30\n",
      "460/460 [==============================] - 13s 28ms/step - loss: 0.1392 - accuracy: 0.9456 - val_loss: 0.3602 - val_accuracy: 0.9152\n",
      "Epoch 29/30\n",
      "460/460 [==============================] - 13s 28ms/step - loss: 0.1462 - accuracy: 0.9429 - val_loss: 0.3307 - val_accuracy: 0.9111\n",
      "Epoch 30/30\n",
      "460/460 [==============================] - 12s 26ms/step - loss: 0.1348 - accuracy: 0.9468 - val_loss: 0.3362 - val_accuracy: 0.9152\n"
     ]
    },
    {
     "data": {
      "text/plain": [
       "<keras.callbacks.History at 0x1dbaef192a0>"
      ]
     },
     "execution_count": 24,
     "metadata": {},
     "output_type": "execute_result"
    }
   ],
   "source": [
    "# Training the model\n",
    "model.fit(X_train, Y_train, batch_size=n_batch, validation_data=(X_test, Y_test), epochs=n_epochs)"
   ]
  },
  {
   "cell_type": "code",
   "execution_count": 25,
   "metadata": {},
   "outputs": [],
   "source": [
    "model.save('models/lstml2_model.h5')"
   ]
  },
  {
   "cell_type": "code",
   "execution_count": 26,
   "metadata": {},
   "outputs": [
    {
     "name": "stdout",
     "output_type": "stream",
     "text": [
      "93/93 [==============================] - 2s 12ms/step\n"
     ]
    },
    {
     "data": {
      "image/png": "[encoded data removed]",
      "text/plain": [
       "<Figure size 640x480 with 2 Axes>"
      ]
     },
     "metadata": {},
     "output_type": "display_data"
    }
   ],
   "source": [
    "from sklearn.metrics import confusion_matrix, ConfusionMatrixDisplay\n",
    "import numpy as np\n",
    "import matplotlib.pyplot as plt\n",
    "\n",
    "# Get predictions and convert one-hot to class indices\n",
    "y_pred = model.predict(X_test)\n",
    "y_pred_classes = np.argmax(y_pred, axis=1)\n",
    "y_true = np.argmax(Y_test, axis=1)\n",
    "\n",
    "# Compute confusion matrix\n",
    "cm = confusion_matrix(y_true, y_pred_classes)\n",
    "\n",
    "# Display the matrix\n",
    "disp = ConfusionMatrixDisplay(confusion_matrix=cm)\n",
    "disp.plot(cmap=plt.cm.Blues)\n",
    "plt.title(\"Confusion Matrix\")\n",
    "plt.show()\n"
   ]
  },
  {
   "cell_type": "code",
   "execution_count": 27,
   "metadata": {},
   "outputs": [
    {
     "name": "stdout",
     "output_type": "stream",
     "text": [
      "93/93 [==============================] - 1s 12ms/step - loss: 0.3362 - accuracy: 0.9152\n",
      "\n",
      "   cat_crossentropy  ||   accuracy \n",
      "  ____________________________________\n",
      "[0.3362439274787903, 0.9151679873466492]\n"
     ]
    }
   ],
   "source": [
    "score = model.evaluate(X_test, Y_test)\n",
    "\n",
    "print(\"\\n   cat_crossentropy  ||   accuracy \")\n",
    "print(\"  ____________________________________\")\n",
    "print(score)"
   ]
  },
  {
   "cell_type": "code",
   "execution_count": null,
   "metadata": {},
   "outputs": [],
   "source": []
  },
  {
   "cell_type": "markdown",
   "metadata": {},
   "source": [
    "### 2.2 Second Model for 2-Layer of LSTM with more hyperparameter tunning"
   ]
  },
  {
   "cell_type": "code",
   "execution_count": 28,
   "metadata": {},
   "outputs": [
    {
     "name": "stdout",
     "output_type": "stream",
     "text": [
      "Model Summary: \n",
      "Model: \"sequential_2\"\n",
      "_________________________________________________________________\n",
      " Layer (type)                Output Shape              Param #   \n",
      "=================================================================\n",
      " lstm_3 (LSTM)               (None, 128, 64)           18944     \n",
      "                                                                 \n",
      " batch_normalization_1 (Batc  (None, 128, 64)          256       \n",
      " hNormalization)                                                 \n",
      "                                                                 \n",
      " dropout_3 (Dropout)         (None, 128, 64)           0         \n",
      "                                                                 \n",
      " lstm_4 (LSTM)               (None, 48)                21696     \n",
      "                                                                 \n",
      " dropout_4 (Dropout)         (None, 48)                0         \n",
      "                                                                 \n",
      " dense_2 (Dense)             (None, 6)                 294       \n",
      "                                                                 \n",
      "=================================================================\n",
      "Total params: 41,190\n",
      "Trainable params: 41,062\n",
      "Non-trainable params: 128\n",
      "_________________________________________________________________\n"
     ]
    }
   ],
   "source": [
    "# Model execution\n",
    "model = Sequential()\n",
    "model.add(LSTM(64, input_shape=(timesteps, input_dim), return_sequences=True, bias_regularizer=reg))\n",
    "model.add(BatchNormalization())\n",
    "model.add(Dropout(0.50))\n",
    "model.add(LSTM(48))\n",
    "model.add(Dropout(0.50))\n",
    "model.add(Dense(n_classes, activation='sigmoid'))\n",
    "print(\"Model Summary: \")\n",
    "model.summary()"
   ]
  },
  {
   "cell_type": "code",
   "execution_count": 29,
   "metadata": {},
   "outputs": [],
   "source": [
    "model.compile(loss='categorical_crossentropy', optimizer='adam', metrics=['accuracy'])"
   ]
  },
  {
   "cell_type": "code",
   "execution_count": 30,
   "metadata": {},
   "outputs": [
    {
     "name": "stdout",
     "output_type": "stream",
     "text": [
      "Epoch 1/30\n",
      "460/460 [==============================] - 16s 28ms/step - loss: 1.5979 - accuracy: 0.7550 - val_loss: 1.3052 - val_accuracy: 0.8151\n",
      "Epoch 2/30\n",
      "460/460 [==============================] - 12s 25ms/step - loss: 0.6861 - accuracy: 0.9127 - val_loss: 0.7395 - val_accuracy: 0.8517\n",
      "Epoch 3/30\n",
      "460/460 [==============================] - 12s 26ms/step - loss: 0.3298 - accuracy: 0.9283 - val_loss: 0.3252 - val_accuracy: 0.8880\n",
      "Epoch 4/30\n",
      "460/460 [==============================] - 12s 27ms/step - loss: 0.2204 - accuracy: 0.9282 - val_loss: 0.3975 - val_accuracy: 0.8873\n",
      "Epoch 5/30\n",
      "460/460 [==============================] - 13s 27ms/step - loss: 0.1965 - accuracy: 0.9291 - val_loss: 0.2503 - val_accuracy: 0.9108\n",
      "Epoch 6/30\n",
      "460/460 [==============================] - 12s 26ms/step - loss: 0.1624 - accuracy: 0.9377 - val_loss: 0.2116 - val_accuracy: 0.9233\n",
      "Epoch 7/30\n",
      "460/460 [==============================] - 12s 27ms/step - loss: 0.1567 - accuracy: 0.9406 - val_loss: 0.2016 - val_accuracy: 0.9298\n",
      "Epoch 8/30\n",
      "460/460 [==============================] - 12s 26ms/step - loss: 0.1417 - accuracy: 0.9444 - val_loss: 0.2163 - val_accuracy: 0.9213\n",
      "Epoch 9/30\n",
      "460/460 [==============================] - 12s 26ms/step - loss: 0.1482 - accuracy: 0.9431 - val_loss: 0.2776 - val_accuracy: 0.9077\n",
      "Epoch 10/30\n",
      "460/460 [==============================] - 12s 26ms/step - loss: 0.1516 - accuracy: 0.9422 - val_loss: 0.2291 - val_accuracy: 0.9335\n",
      "Epoch 11/30\n",
      "460/460 [==============================] - 12s 27ms/step - loss: 0.1459 - accuracy: 0.9433 - val_loss: 0.2487 - val_accuracy: 0.9033\n",
      "Epoch 12/30\n",
      "460/460 [==============================] - 13s 27ms/step - loss: 0.1404 - accuracy: 0.9452 - val_loss: 0.2154 - val_accuracy: 0.9294\n",
      "Epoch 13/30\n",
      "460/460 [==============================] - 12s 27ms/step - loss: 0.1718 - accuracy: 0.9342 - val_loss: 0.3873 - val_accuracy: 0.8863\n",
      "Epoch 14/30\n",
      "460/460 [==============================] - 13s 27ms/step - loss: 0.1692 - accuracy: 0.9377 - val_loss: 0.3032 - val_accuracy: 0.9145\n",
      "Epoch 15/30\n",
      "460/460 [==============================] - 12s 26ms/step - loss: 0.1348 - accuracy: 0.9441 - val_loss: 0.3245 - val_accuracy: 0.9043\n",
      "Epoch 16/30\n",
      "460/460 [==============================] - 13s 28ms/step - loss: 0.1427 - accuracy: 0.9444 - val_loss: 0.3222 - val_accuracy: 0.9108\n",
      "Epoch 17/30\n",
      "460/460 [==============================] - 13s 29ms/step - loss: 0.1290 - accuracy: 0.9453 - val_loss: 0.2513 - val_accuracy: 0.9121\n",
      "Epoch 18/30\n",
      "460/460 [==============================] - 13s 29ms/step - loss: 0.1333 - accuracy: 0.9455 - val_loss: 0.3094 - val_accuracy: 0.9186\n",
      "Epoch 19/30\n",
      "460/460 [==============================] - 13s 28ms/step - loss: 0.1304 - accuracy: 0.9475 - val_loss: 0.2706 - val_accuracy: 0.9158\n",
      "Epoch 20/30\n",
      "460/460 [==============================] - 13s 28ms/step - loss: 0.1336 - accuracy: 0.9476 - val_loss: 0.3171 - val_accuracy: 0.8992\n",
      "Epoch 21/30\n",
      "460/460 [==============================] - 14s 30ms/step - loss: 0.2242 - accuracy: 0.9230 - val_loss: 0.2074 - val_accuracy: 0.9165\n",
      "Epoch 22/30\n",
      "460/460 [==============================] - 13s 29ms/step - loss: 0.1368 - accuracy: 0.9461 - val_loss: 0.2402 - val_accuracy: 0.9135\n",
      "Epoch 23/30\n",
      "460/460 [==============================] - 14s 29ms/step - loss: 0.1291 - accuracy: 0.9495 - val_loss: 0.2276 - val_accuracy: 0.9216\n",
      "Epoch 24/30\n",
      "460/460 [==============================] - 13s 29ms/step - loss: 0.1223 - accuracy: 0.9465 - val_loss: 0.2290 - val_accuracy: 0.9209\n",
      "Epoch 25/30\n",
      "460/460 [==============================] - 14s 30ms/step - loss: 0.1238 - accuracy: 0.9513 - val_loss: 0.2306 - val_accuracy: 0.9189\n",
      "Epoch 26/30\n",
      "460/460 [==============================] - 13s 28ms/step - loss: 0.1404 - accuracy: 0.9472 - val_loss: 0.2847 - val_accuracy: 0.9182\n",
      "Epoch 27/30\n",
      "460/460 [==============================] - 13s 29ms/step - loss: 0.1422 - accuracy: 0.9476 - val_loss: 0.2649 - val_accuracy: 0.9175\n",
      "Epoch 28/30\n",
      "460/460 [==============================] - 13s 28ms/step - loss: 0.1232 - accuracy: 0.9527 - val_loss: 0.2034 - val_accuracy: 0.9281\n",
      "Epoch 29/30\n",
      "460/460 [==============================] - 13s 29ms/step - loss: 0.1361 - accuracy: 0.9491 - val_loss: 0.2247 - val_accuracy: 0.9257\n",
      "Epoch 30/30\n",
      "460/460 [==============================] - 14s 30ms/step - loss: 0.1248 - accuracy: 0.9506 - val_loss: 0.2270 - val_accuracy: 0.9216\n"
     ]
    },
    {
     "data": {
      "text/plain": [
       "<keras.callbacks.History at 0x1dbc3d9b700>"
      ]
     },
     "execution_count": 30,
     "metadata": {},
     "output_type": "execute_result"
    }
   ],
   "source": [
    "# Training the model\n",
    "model.fit(X_train, Y_train, batch_size=n_batch, validation_data=(X_test, Y_test), epochs=n_epochs)"
   ]
  },
  {
   "cell_type": "code",
   "execution_count": 31,
   "metadata": {},
   "outputs": [],
   "source": [
    "model.save('models/lstml3_model.h5')"
   ]
  },
  {
   "cell_type": "code",
   "execution_count": 32,
   "metadata": {},
   "outputs": [
    {
     "name": "stdout",
     "output_type": "stream",
     "text": [
      "93/93 [==============================] - 2s 10ms/step\n"
     ]
    },
    {
     "data": {
      "image/png": "[encoded data removed]",
      "text/plain": [
       "<Figure size 640x480 with 2 Axes>"
      ]
     },
     "metadata": {},
     "output_type": "display_data"
    }
   ],
   "source": [
    "from sklearn.metrics import confusion_matrix, ConfusionMatrixDisplay\n",
    "import numpy as np\n",
    "import matplotlib.pyplot as plt\n",
    "\n",
    "# Get predictions and convert one-hot to class indices\n",
    "y_pred = model.predict(X_test)\n",
    "y_pred_classes = np.argmax(y_pred, axis=1)\n",
    "y_true = np.argmax(Y_test, axis=1)\n",
    "\n",
    "# Compute confusion matrix\n",
    "cm = confusion_matrix(y_true, y_pred_classes)\n",
    "\n",
    "# Display the matrix\n",
    "disp = ConfusionMatrixDisplay(confusion_matrix=cm)\n",
    "disp.plot(cmap=plt.cm.Blues)\n",
    "plt.title(\"Confusion Matrix\")\n",
    "plt.show()\n"
   ]
  },
  {
   "cell_type": "code",
   "execution_count": 33,
   "metadata": {},
   "outputs": [
    {
     "name": "stdout",
     "output_type": "stream",
     "text": [
      "93/93 [==============================] - 1s 11ms/step - loss: 0.2270 - accuracy: 0.9216\n",
      "\n",
      "   cat_crossentropy  ||   accuracy \n",
      "  ____________________________________\n",
      "[0.22695565223693848, 0.9216151833534241]\n"
     ]
    }
   ],
   "source": [
    "score = model.evaluate(X_test, Y_test)\n",
    "\n",
    "print(\"\\n   cat_crossentropy  ||   accuracy \")\n",
    "print(\"  ____________________________________\")\n",
    "print(score)"
   ]
  },
  {
   "cell_type": "code",
   "execution_count": null,
   "metadata": {},
   "outputs": [],
   "source": []
  }
 ],
 "metadata": {
  "kernelspec": {
   "display_name": "Python 3",
   "language": "python",
   "name": "python3"
  },
  "language_info": {
   "codemirror_mode": {
    "name": "ipython",
    "version": 3
   },
   "file_extension": ".py",
   "mimetype": "text/x-python",
   "name": "python",
   "nbconvert_exporter": "python",
   "pygments_lexer": "ipython3",
   "version": "3.10.16"
  }
 },
 "nbformat": 4,
 "nbformat_minor": 4
}
